{
 "cells": [
  {
   "cell_type": "markdown",
   "metadata": {},
   "source": [
    "## Introduction\n",
    "\n",
    "This notebook will document a small NLP project on classifying News articles into 31 different categories, from Politics, to Sport, to Religion etc. The source of news articles is HuffPost and the dataset was downloaded from: https://www.kaggle.com/rmisra/news-category-dataset/downloads/news-category-dataset.zip/2. I will use pre-processing techniques such as tokenisation, stemming and stopword removal, and in regard to modelling, I will use bag of words, TF-IDF and word2vec to build features. I will use SVM and Naive Bayes to build the supervised learning model on those features."
   ]
  },
  {
   "cell_type": "code",
   "execution_count": 95,
   "metadata": {},
   "outputs": [],
   "source": [
    "import nltk\n",
    "from sklearn.multiclass import OneVsRestClassifier\n",
    "from sklearn.svm import LinearSVC\n",
    "from sklearn.linear_model import LogisticRegression\n",
    "import pandas as pd\n",
    "import numpy as np\n",
    "import matplotlib as plt\n",
    "\n"
   ]
  },
  {
   "cell_type": "markdown",
   "metadata": {},
   "source": [
    "## Exploratory Analysis and Data Cleaning"
   ]
  },
  {
   "cell_type": "code",
   "execution_count": 96,
   "metadata": {},
   "outputs": [
    {
     "data": {
      "text/html": [
       "<div>\n",
       "<style scoped>\n",
       "    .dataframe tbody tr th:only-of-type {\n",
       "        vertical-align: middle;\n",
       "    }\n",
       "\n",
       "    .dataframe tbody tr th {\n",
       "        vertical-align: top;\n",
       "    }\n",
       "\n",
       "    .dataframe thead th {\n",
       "        text-align: right;\n",
       "    }\n",
       "</style>\n",
       "<table border=\"1\" class=\"dataframe\">\n",
       "  <thead>\n",
       "    <tr style=\"text-align: right;\">\n",
       "      <th></th>\n",
       "      <th>authors</th>\n",
       "      <th>category</th>\n",
       "      <th>date</th>\n",
       "      <th>headline</th>\n",
       "      <th>link</th>\n",
       "      <th>short_description</th>\n",
       "    </tr>\n",
       "  </thead>\n",
       "  <tbody>\n",
       "    <tr>\n",
       "      <th>0</th>\n",
       "      <td>Melissa Jeltsen</td>\n",
       "      <td>CRIME</td>\n",
       "      <td>2018-05-26</td>\n",
       "      <td>There Were 2 Mass Shootings In Texas Last Week...</td>\n",
       "      <td>https://www.huffingtonpost.com/entry/texas-ama...</td>\n",
       "      <td>She left her husband. He killed their children...</td>\n",
       "    </tr>\n",
       "    <tr>\n",
       "      <th>1</th>\n",
       "      <td>Andy McDonald</td>\n",
       "      <td>ENTERTAINMENT</td>\n",
       "      <td>2018-05-26</td>\n",
       "      <td>Will Smith Joins Diplo And Nicky Jam For The 2...</td>\n",
       "      <td>https://www.huffingtonpost.com/entry/will-smit...</td>\n",
       "      <td>Of course it has a song.</td>\n",
       "    </tr>\n",
       "    <tr>\n",
       "      <th>2</th>\n",
       "      <td>Ron Dicker</td>\n",
       "      <td>ENTERTAINMENT</td>\n",
       "      <td>2018-05-26</td>\n",
       "      <td>Hugh Grant Marries For The First Time At Age 57</td>\n",
       "      <td>https://www.huffingtonpost.com/entry/hugh-gran...</td>\n",
       "      <td>The actor and his longtime girlfriend Anna Ebe...</td>\n",
       "    </tr>\n",
       "    <tr>\n",
       "      <th>3</th>\n",
       "      <td>Ron Dicker</td>\n",
       "      <td>ENTERTAINMENT</td>\n",
       "      <td>2018-05-26</td>\n",
       "      <td>Jim Carrey Blasts 'Castrato' Adam Schiff And D...</td>\n",
       "      <td>https://www.huffingtonpost.com/entry/jim-carre...</td>\n",
       "      <td>The actor gives Dems an ass-kicking for not fi...</td>\n",
       "    </tr>\n",
       "    <tr>\n",
       "      <th>4</th>\n",
       "      <td>Ron Dicker</td>\n",
       "      <td>ENTERTAINMENT</td>\n",
       "      <td>2018-05-26</td>\n",
       "      <td>Julianna Margulies Uses Donald Trump Poop Bags...</td>\n",
       "      <td>https://www.huffingtonpost.com/entry/julianna-...</td>\n",
       "      <td>The \"Dietland\" actress said using the bags is ...</td>\n",
       "    </tr>\n",
       "  </tbody>\n",
       "</table>\n",
       "</div>"
      ],
      "text/plain": [
       "           authors       category       date  \\\n",
       "0  Melissa Jeltsen          CRIME 2018-05-26   \n",
       "1    Andy McDonald  ENTERTAINMENT 2018-05-26   \n",
       "2       Ron Dicker  ENTERTAINMENT 2018-05-26   \n",
       "3       Ron Dicker  ENTERTAINMENT 2018-05-26   \n",
       "4       Ron Dicker  ENTERTAINMENT 2018-05-26   \n",
       "\n",
       "                                            headline  \\\n",
       "0  There Were 2 Mass Shootings In Texas Last Week...   \n",
       "1  Will Smith Joins Diplo And Nicky Jam For The 2...   \n",
       "2    Hugh Grant Marries For The First Time At Age 57   \n",
       "3  Jim Carrey Blasts 'Castrato' Adam Schiff And D...   \n",
       "4  Julianna Margulies Uses Donald Trump Poop Bags...   \n",
       "\n",
       "                                                link  \\\n",
       "0  https://www.huffingtonpost.com/entry/texas-ama...   \n",
       "1  https://www.huffingtonpost.com/entry/will-smit...   \n",
       "2  https://www.huffingtonpost.com/entry/hugh-gran...   \n",
       "3  https://www.huffingtonpost.com/entry/jim-carre...   \n",
       "4  https://www.huffingtonpost.com/entry/julianna-...   \n",
       "\n",
       "                                   short_description  \n",
       "0  She left her husband. He killed their children...  \n",
       "1                           Of course it has a song.  \n",
       "2  The actor and his longtime girlfriend Anna Ebe...  \n",
       "3  The actor gives Dems an ass-kicking for not fi...  \n",
       "4  The \"Dietland\" actress said using the bags is ...  "
      ]
     },
     "execution_count": 96,
     "metadata": {},
     "output_type": "execute_result"
    }
   ],
   "source": [
    "df = pd.read_json('News_Category_Dataset_v2.json', lines=True)\n",
    "df.head()"
   ]
  },
  {
   "cell_type": "code",
   "execution_count": 97,
   "metadata": {},
   "outputs": [
    {
     "data": {
      "text/plain": [
       "(200853, 6)"
      ]
     },
     "execution_count": 97,
     "metadata": {},
     "output_type": "execute_result"
    }
   ],
   "source": [
    "# Over 200k news articles\n",
    "df.shape"
   ]
  },
  {
   "cell_type": "markdown",
   "metadata": {},
   "source": [
    "How many categories and how many articles in each category are there in the dataset?"
   ]
  },
  {
   "cell_type": "code",
   "execution_count": 98,
   "metadata": {},
   "outputs": [
    {
     "name": "stdout",
     "output_type": "stream",
     "text": [
      "Number of Categories 41\n"
     ]
    }
   ],
   "source": [
    "print('Number of Categories',df.groupby('category').ngroups)"
   ]
  },
  {
   "cell_type": "code",
   "execution_count": 99,
   "metadata": {},
   "outputs": [
    {
     "data": {
      "text/plain": [
       "category\n",
       "POLITICS          32739\n",
       "WELLNESS          17827\n",
       "ENTERTAINMENT     16058\n",
       "TRAVEL             9887\n",
       "STYLE & BEAUTY     9649\n",
       "PARENTING          8677\n",
       "HEALTHY LIVING     6694\n",
       "QUEER VOICES       6314\n",
       "FOOD & DRINK       6226\n",
       "BUSINESS           5937\n",
       "COMEDY             5175\n",
       "SPORTS             4884\n",
       "BLACK VOICES       4528\n",
       "HOME & LIVING      4195\n",
       "PARENTS            3955\n",
       "THE WORLDPOST      3664\n",
       "WEDDINGS           3651\n",
       "WOMEN              3490\n",
       "IMPACT             3459\n",
       "DIVORCE            3426\n",
       "CRIME              3405\n",
       "MEDIA              2815\n",
       "WEIRD NEWS         2670\n",
       "GREEN              2622\n",
       "WORLDPOST          2579\n",
       "RELIGION           2556\n",
       "STYLE              2254\n",
       "SCIENCE            2178\n",
       "WORLD NEWS         2177\n",
       "TASTE              2096\n",
       "TECH               2082\n",
       "MONEY              1707\n",
       "ARTS               1509\n",
       "FIFTY              1401\n",
       "GOOD NEWS          1398\n",
       "ARTS & CULTURE     1339\n",
       "ENVIRONMENT        1323\n",
       "COLLEGE            1144\n",
       "LATINO VOICES      1129\n",
       "CULTURE & ARTS     1030\n",
       "EDUCATION          1004\n",
       "dtype: int64"
      ]
     },
     "execution_count": 99,
     "metadata": {},
     "output_type": "execute_result"
    }
   ],
   "source": [
    "df.groupby('category').size().sort_values(ascending=False)"
   ]
  },
  {
   "cell_type": "code",
   "execution_count": 100,
   "metadata": {},
   "outputs": [
    {
     "data": {
      "text/plain": [
       "<matplotlib.axes._subplots.AxesSubplot at 0x1c02b416080>"
      ]
     },
     "execution_count": 100,
     "metadata": {},
     "output_type": "execute_result"
    },
    {
     "data": {
      "image/png": "[encoded data removed]",
      "text/plain": [
       "<Figure size 432x288 with 1 Axes>"
      ]
     },
     "metadata": {
      "needs_background": "light"
     },
     "output_type": "display_data"
    }
   ],
   "source": [
    "df.groupby('category').size().sort_values(ascending=False).plot.bar()"
   ]
  },
  {
   "cell_type": "markdown",
   "metadata": {},
   "source": [
    "We can see there's alot of small categories, so lets see if we can group up similar categories and see if its better. For example:\n",
    "- Parenting vs Parents\n",
    "- Arts & Culture vs Culture & Arts vs Arts\n",
    "- Education vs College\n",
    "- Environment vs Green\n",
    "- Style vs Style & beauty"
   ]
  },
  {
   "cell_type": "code",
   "execution_count": 101,
   "metadata": {},
   "outputs": [],
   "source": [
    "df['category'] = np.where(df['category'] == 'PARENTS', 'PARENTING', df['category'])\n",
    "df['category'] = np.where(df['category'].str.contains('ARTS'), 'ARTS', df['category'])\n",
    "df['category'] = np.where(df['category'] == \"COLLEGE\", 'EDUCATION', df['category'])\n",
    "df['category'] = np.where(df['category'] == \"GREEN\", 'ENVIRONMENT', df['category'])\n",
    "df['category'] = np.where(df['category'] == \"STYLE\", 'STYLE & BEAUTY', df['category'])\n",
    "df['category'] = np.where(df['category'] == \"TASTE\", 'FOOD & DRINK', df['category'])\n",
    "df['category'] = np.where(df['category'].str.contains(\"WORLDPOST\"), 'WORLD NEWS', df['category'])\n"
   ]
  },
  {
   "cell_type": "code",
   "execution_count": 102,
   "metadata": {},
   "outputs": [
    {
     "data": {
      "text/plain": [
       "category\n",
       "POLITICS          32739\n",
       "WELLNESS          17827\n",
       "ENTERTAINMENT     16058\n",
       "PARENTING         12632\n",
       "STYLE & BEAUTY    11903\n",
       "TRAVEL             9887\n",
       "WORLD NEWS         8420\n",
       "FOOD & DRINK       8322\n",
       "HEALTHY LIVING     6694\n",
       "QUEER VOICES       6314\n",
       "BUSINESS           5937\n",
       "COMEDY             5175\n",
       "SPORTS             4884\n",
       "BLACK VOICES       4528\n",
       "HOME & LIVING      4195\n",
       "ENVIRONMENT        3945\n",
       "ARTS               3878\n",
       "WEDDINGS           3651\n",
       "WOMEN              3490\n",
       "IMPACT             3459\n",
       "DIVORCE            3426\n",
       "CRIME              3405\n",
       "MEDIA              2815\n",
       "WEIRD NEWS         2670\n",
       "RELIGION           2556\n",
       "SCIENCE            2178\n",
       "EDUCATION          2148\n",
       "TECH               2082\n",
       "MONEY              1707\n",
       "FIFTY              1401\n",
       "GOOD NEWS          1398\n",
       "LATINO VOICES      1129\n",
       "dtype: int64"
      ]
     },
     "execution_count": 102,
     "metadata": {},
     "output_type": "execute_result"
    }
   ],
   "source": [
    "df.groupby('category').size().sort_values(ascending=False)"
   ]
  },
  {
   "cell_type": "markdown",
   "metadata": {},
   "source": [
    "Reduced down to 32 categories. Might be hard to classify the rarer categories, but we'll try for now. We might just try the 10 categories with most articles"
   ]
  },
  {
   "cell_type": "code",
   "execution_count": 107,
   "metadata": {},
   "outputs": [],
   "source": [
    "categories = df.groupby('category').size().sort_values(ascending=False).reset_index(name='count')\n",
    "df = df[ df['category'].isin(categories.iloc[:10,0])]"
   ]
  },
  {
   "cell_type": "code",
   "execution_count": 110,
   "metadata": {},
   "outputs": [
    {
     "data": {
      "text/plain": [
       "{'ENTERTAINMENT',\n",
       " 'FOOD & DRINK',\n",
       " 'HEALTHY LIVING',\n",
       " 'PARENTING',\n",
       " 'POLITICS',\n",
       " 'QUEER VOICES',\n",
       " 'STYLE & BEAUTY',\n",
       " 'TRAVEL',\n",
       " 'WELLNESS',\n",
       " 'WORLD NEWS'}"
      ]
     },
     "execution_count": 110,
     "metadata": {},
     "output_type": "execute_result"
    }
   ],
   "source": [
    "set(df['category'])"
   ]
  },
  {
   "cell_type": "markdown",
   "metadata": {},
   "source": [
    "Lets join the headline with the description, separated by a space, since both of them will contain useful information."
   ]
  },
  {
   "cell_type": "code",
   "execution_count": 9,
   "metadata": {},
   "outputs": [],
   "source": [
    "df['fulltext'] = df['headline'] + ' ' + df['short_description']"
   ]
  },
  {
   "cell_type": "code",
   "execution_count": 10,
   "metadata": {},
   "outputs": [
    {
     "data": {
      "text/plain": [
       "'There Were 2 Mass Shootings In Texas Last Week, But Only 1 On TV She left her husband. He killed their children. Just another day in America.'"
      ]
     },
     "execution_count": 10,
     "metadata": {},
     "output_type": "execute_result"
    }
   ],
   "source": [
    "df.iloc[0,-1]"
   ]
  },
  {
   "cell_type": "markdown",
   "metadata": {},
   "source": [
    "Create column for number of words in each text"
   ]
  },
  {
   "cell_type": "code",
   "execution_count": 11,
   "metadata": {},
   "outputs": [],
   "source": [
    "df['count_words'] = df['fulltext'].str.split().str.len()"
   ]
  },
  {
   "cell_type": "markdown",
   "metadata": {},
   "source": [
    "How do number of words vary by category? What is the mean number of words for each category?\n",
    "- there doesn't seem to be a huge variation in number of words in each text for different categories\n",
    "- 'FIFTY' seems a bit of an outlier?"
   ]
  },
  {
   "cell_type": "code",
   "execution_count": 12,
   "metadata": {
    "scrolled": true
   },
   "outputs": [
    {
     "data": {
      "text/plain": [
       "<matplotlib.axes._subplots.AxesSubplot at 0x1c05587a4a8>"
      ]
     },
     "execution_count": 12,
     "metadata": {},
     "output_type": "execute_result"
    },
    {
     "data": {
      "image/png": "[encoded data removed]",
      "text/plain": [
       "<Figure size 432x288 with 1 Axes>"
      ]
     },
     "metadata": {
      "needs_background": "light"
     },
     "output_type": "display_data"
    }
   ],
   "source": [
    "df[['category','count_words']].groupby('category')['count_words'].median().plot.bar(y='count_words')"
   ]
  },
  {
   "cell_type": "markdown",
   "metadata": {},
   "source": [
    "## Data Processing\n",
    "- Data processing involves doing:\n",
    "    - tokenisation\n",
    "    - stemming or lemmatization\n",
    "    - removing stop words\n",
    "    - removing numeric text and punctation\n",
    "    - remove blanks and convert to lowercase\n",
    "- Instead of NLTK, I might use scikit learn's automatic processing methods, which does it all automatically out of the box"
   ]
  },
  {
   "cell_type": "code",
   "execution_count": 39,
   "metadata": {},
   "outputs": [],
   "source": [
    "from nltk.tokenize import word_tokenize\n",
    "from nltk.corpus import stopwords\n",
    "from nltk.stem import WordNetLemmatizer, PorterStemmer\n",
    "from nltk.corpus import wordnet as wn\n",
    "from sklearn.feature_extraction.text import TfidfVectorizer\n",
    "from sklearn.feature_extraction.text import CountVectorizer\n",
    "from sklearn.model_selection import train_test_split\n",
    "from sklearn.naive_bayes import MultinomialNB\n",
    "from sklearn.metrics import classification_report, confusion_matrix, accuracy_score\n",
    "from sklearn.svm import LinearSVC\n",
    "from sklearn import preprocessing"
   ]
  },
  {
   "cell_type": "code",
   "execution_count": 48,
   "metadata": {},
   "outputs": [],
   "source": [
    "# Convert to Lowercase\n",
    "df['fulltext_processed'] = df['fulltext'].str.lower()\n",
    "\n",
    "# Tokenise words\n",
    "df[\"tokens\"] = df[\"fulltext_processed\"].apply(word_tokenize)\n",
    "\n",
    "# df['fulltext_processed'][0]\n"
   ]
  },
  {
   "cell_type": "code",
   "execution_count": 58,
   "metadata": {},
   "outputs": [
    {
     "ename": "AttributeError",
     "evalue": "'list' object has no attribute 'head'",
     "output_type": "error",
     "traceback": [
      "\u001b[1;31m---------------------------------------------------------------------------\u001b[0m",
      "\u001b[1;31mAttributeError\u001b[0m                            Traceback (most recent call last)",
      "\u001b[1;32m<ipython-input-58-4c4197c82b18>\u001b[0m in \u001b[0;36m<module>\u001b[1;34m\u001b[0m\n\u001b[0;32m      7\u001b[0m     \u001b[0mtext_nostopwords\u001b[0m\u001b[1;33m.\u001b[0m\u001b[0mappend\u001b[0m\u001b[1;33m(\u001b[0m\u001b[0mremoved_sent\u001b[0m\u001b[1;33m)\u001b[0m\u001b[1;33m\u001b[0m\u001b[1;33m\u001b[0m\u001b[0m\n\u001b[0;32m      8\u001b[0m \u001b[1;33m\u001b[0m\u001b[0m\n\u001b[1;32m----> 9\u001b[1;33m \u001b[0mtext_nostopwords\u001b[0m\u001b[1;33m.\u001b[0m\u001b[0mhead\u001b[0m\u001b[1;33m(\u001b[0m\u001b[1;33m)\u001b[0m\u001b[1;33m\u001b[0m\u001b[1;33m\u001b[0m\u001b[0m\n\u001b[0m",
      "\u001b[1;31mAttributeError\u001b[0m: 'list' object has no attribute 'head'"
     ]
    }
   ],
   "source": [
    "# Stopwords\n",
    "stop_words = set(stopwords.words('english'))\n",
    "# tokens = [w for w in sentence for sentence in df[\"tokens\"] if not w in stop_words]\n",
    "text_nostopwords = []\n",
    "for sentence in df[\"fulltext_processed\"]:\n",
    "    removed_sent = ' '.join([word for word in sentence.split() if word not in stop_words])\n",
    "    text_nostopwords.append(removed_sent)\n",
    "\n",
    "text_nostopwords\n",
    "# Note this is already done in the sklearn countvectoriser"
   ]
  },
  {
   "cell_type": "markdown",
   "metadata": {},
   "source": [
    "## Train Test Split"
   ]
  },
  {
   "cell_type": "code",
   "execution_count": 16,
   "metadata": {},
   "outputs": [],
   "source": [
    "X_train, X_test, y_train, y_test = train_test_split(df['fulltext_processed'], df['category'], test_size=0.2, random_state=0)"
   ]
  },
  {
   "cell_type": "code",
   "execution_count": 44,
   "metadata": {},
   "outputs": [],
   "source": [
    "encoder = preprocessing.LabelEncoder()\n",
    "train_y = encoder.fit_transform(y_train)\n",
    "test_y = encoder.fit_transform(y_test)"
   ]
  },
  {
   "cell_type": "markdown",
   "metadata": {},
   "source": [
    "## Bag of Words"
   ]
  },
  {
   "cell_type": "code",
   "execution_count": 23,
   "metadata": {},
   "outputs": [],
   "source": [
    "# Maximum 1500 features and the words must have appeared in at least 10 texts\n",
    "vectorizer1 = CountVectorizer(max_features=1500,min_df=5,max_df=0.7, stop_words=stopwords.words('english'))\n",
    "X_train_counts = vectorizer1.fit_transform(X_train)\n",
    "\n",
    "X_test_counts = vectorizer1.transform(X_test)\n"
   ]
  },
  {
   "cell_type": "code",
   "execution_count": 24,
   "metadata": {},
   "outputs": [
    {
     "name": "stdout",
     "output_type": "stream",
     "text": [
      "['000', '10', '100', '11', '12', '13', '14', '15', '16', '17', '18', '19', '20', '2012', '2013', '2014', '2015', '2016', '2017', '21', '24', '25', '30', '40', '50', 'ability', 'able', 'abortion', 'absolutely', 'abuse', 'access', 'according', 'accused', 'across', 'act', 'action', 'activists', 'actor', 'actress', 'actually', 'ad', 'add', 'address', 'administration', 'adorable', 'adults', 'advice', 'africa', 'african', 'age', 'agency', 'ago', 'ahead', 'air', 'airlines', 'airport', 'al', 'album', 'alive', 'allegedly', 'allow', 'almost', 'alone', 'along', 'already', 'also', 'although', 'always', 'amazing', 'america', 'american', 'americans', 'amid', 'among', 'angeles', 'animal', 'animals', 'anniversary', 'announced', 'annual', 'another', 'answer', 'anti', 'anxiety', 'anyone', 'anything', 'apparently', 'apple', 'approach', 'april', 'area', 'around', 'arrested', 'art', 'article', 'artist', 'artists', 'ask', 'asked', 'asking', 'assault', 'attack', 'attacks', 'attention', 'attorney', 'author', 'autism', 'avoid', 'award', 'awards', 'awareness', 'away', 'awesome', 'babies', 'baby', 'back', 'bad', 'balance', 'ban', 'bank', 'bar', 'based', 'battle', 'beach', 'beat', 'beautiful', 'beauty', 'became', 'become', 'becomes', 'becoming', 'bed', 'beer', 'began', 'begin', 'beginning', 'behavior', 'behind', 'believe', 'ben', 'benefit', 'benefits', 'bernie', 'best', 'better', 'beyond', 'big', 'biggest', 'bill', 'billion', 'birth', 'birthday', 'bit', 'black', 'blood', 'blue', 'board', 'body', 'book', 'books', 'born', 'boston', 'bowl', 'box', 'boy', 'boys', 'brain', 'brand', 'break', 'breakfast', 'breaking', 'breast', 'bring', 'bringing', 'brings', 'british', 'broken', 'brought', 'brown', 'budget', 'build', 'building', 'bush', 'business', 'buy', 'cake', 'california', 'call', 'called', 'calling', 'calls', 'came', 'campaign', 'cancer', 'candidate', 'candidates', 'cannot', 'car', 'card', 'care', 'career', 'carolina', 'carpet', 'case', 'cases', 'cast', 'cat', 'caught', 'cause', 'celebrate', 'celebrating', 'celebrities', 'celebrity', 'center', 'central', 'century', 'ceo', 'certain', 'certainly', 'challenge', 'challenges', 'chance', 'change', 'changed', 'changes', 'changing', 'character', 'charged', 'check', 'cheese', 'chicago', 'chicken', 'chief', 'child', 'childhood', 'children', 'china', 'chinese', 'chocolate', 'choice', 'choices', 'choose', 'chris', 'christian', 'christmas', 'church', 'cities', 'city', 'civil', 'claim', 'claims', 'class', 'classic', 'clean', 'clear', 'click', 'climate', 'clinton', 'close', 'cnn', 'co', 'coast', 'coffee', 'colbert', 'cold', 'collection', 'college', 'color', 'com', 'come', 'comedy', 'comes', 'coming', 'comments', 'committee', 'common', 'communities', 'community', 'companies', 'company', 'completely', 'conflict', 'congress', 'conservative', 'consider', 'continue', 'continues', 'control', 'controversial', 'conversation', 'cook', 'cooking', 'cool', 'cops', 'corporate', 'cost', 'costs', 'could', 'countries', 'country', 'couple', 'couples', 'course', 'court', 'cover', 'crazy', 'cream', 'create', 'created', 'creating', 'creative', 'credit', 'crime', 'crisis', 'critical', 'cruz', 'culture', 'cup', 'current', 'cut', 'cute', 'dad', 'dads', 'daily', 'dance', 'dangerous', 'dark', 'data', 'date', 'dating', 'daughter', 'david', 'day', 'days', 'de', 'dead', 'deadly', 'deal', 'dear', 'death', 'debate', 'debt', 'decades', 'decided', 'decision', 'deep', 'defense', 'definitely', 'delicious', 'democratic', 'democrats', 'department', 'depression', 'design', 'designer', 'despite', 'details', 'development', 'die', 'died', 'dies', 'diet', 'difference', 'different', 'difficult', 'digital', 'dinner', 'director', 'disease', 'disney', 'divorce', 'diy', 'doctor', 'doctors', 'dog', 'dogs', 'donald', 'done', 'door', 'dr', 'dream', 'dreams', 'dress', 'dressed', 'drink', 'drinking', 'drive', 'driving', 'drug', 'drugs', 'due', 'earlier', 'early', 'earth', 'easier', 'east', 'easy', 'eat', 'eating', 'economic', 'economy', 'education', 'effect', 'effective', 'effects', 'effort', 'efforts', 'eight', 'either', 'election', 'elizabeth', 'else', 'email', 'emotional', 'employees', 'end', 'energy', 'enjoy', 'enough', 'entire', 'episode', 'equality', 'era', 'especially', 'europe', 'even', 'event', 'events', 'ever', 'every', 'everyone', 'everything', 'everywhere', 'evidence', 'evolution', 'ex', 'exactly', 'executive', 'exercise', 'expect', 'expected', 'experience', 'experiences', 'experts', 'explain', 'explains', 'extra', 'eye', 'eyes', 'face', 'facebook', 'faces', 'facing', 'fact', 'facts', 'fail', 'fair', 'faith', 'fake', 'fall', 'families', 'family', 'famous', 'fan', 'fans', 'far', 'fashion', 'fast', 'fat', 'father', 'favorite', 'fbi', 'fear', 'federal', 'feel', 'feeling', 'feelings', 'feels', 'felt', 'female', 'festival', 'field', 'fight', 'fighting', 'figure', 'filled', 'film', 'final', 'finally', 'financial', 'find', 'finding', 'finds', 'fine', 'fire', 'fired', 'first', 'fit', 'fitness', 'five', 'fix', 'flight', 'florida', 'focus', 'follow', 'following', 'food', 'foods', 'football', 'force', 'forces', 'foreign', 'forever', 'forget', 'form', 'former', 'forward', 'found', 'founder', 'four', 'fox', 'france', 'francisco', 'free', 'freedom', 'french', 'fresh', 'friday', 'friend', 'friendly', 'friends', 'front', 'full', 'fun', 'funny', 'future', 'game', 'games', 'gave', 'gay', 'gender', 'general', 'generation', 'george', 'get', 'gets', 'getting', 'gift', 'gifts', 'girl', 'girls', 'give', 'given', 'gives', 'giving', 'global', 'go', 'goal', 'goals', 'god', 'goes', 'going', 'gold', 'golden', 'gone', 'good', 'google', 'gop', 'gorgeous', 'got', 'government', 'governor', 'gps', 'great', 'greatest', 'green', 'ground', 'group', 'groups', 'grow', 'growing', 'growth', 'guide', 'gun', 'guns', 'guy', 'guys', 'habits', 'hair', 'half', 'halloween', 'hand', 'hands', 'happen', 'happened', 'happens', 'happiness', 'happy', 'harassment', 'hard', 'harry', 'hate', 'head', 'health', 'healthy', 'hear', 'heard', 'heart', 'held', 'help', 'helped', 'helping', 'helps', 'high', 'higher', 'hilarious', 'hill', 'hillary', 'historic', 'history', 'hit', 'hits', 'hiv', 'hold', 'holiday', 'holidays', 'hollywood', 'home', 'homeless', 'homes', 'honor', 'hope', 'hopes', 'hospital', 'host', 'hot', 'hotel', 'hotels', 'hour', 'hours', 'house', 'however', 'huffpost', 'huge', 'human', 'hundreds', 'hurricane', 'hurt', 'husband', 'ice', 'idea', 'ideas', 'illness', 'image', 'images', 'imagine', 'immigration', 'impact', 'important', 'improve', 'include', 'including', 'increase', 'incredible', 'industry', 'information', 'inner', 'inside', 'inspiration', 'inspired', 'instagram', 'instead', 'insurance', 'interest', 'international', 'internet', 'interview', 'investigation', 'involved', 'iran', 'iraq', 'isis', 'island', 'israel', 'issue', 'issues', 'james', 'jeff', 'jenner', 'jennifer', 'jessica', 'jimmy', 'job', 'jobs', 'joe', 'john', 'johnson', 'join', 'jones', 'journal', 'journey', 'joy', 'judge', 'july', 'june', 'justice', 'justin', 'kardashian', 'kate', 'keep', 'keeping', 'kelly', 'key', 'kid', 'kids', 'kill', 'killed', 'killing', 'kim', 'kind', 'king', 'kitchen', 'knew', 'know', 'known', 'knows', 'korea', 'la', 'labor', 'lack', 'lady', 'land', 'large', 'largest', 'last', 'late', 'later', 'latest', 'law', 'lawmakers', 'laws', 'lawsuit', 'lawyer', 'lead', 'leader', 'leaders', 'leadership', 'leading', 'learn', 'learned', 'learning', 'least', 'leave', 'leaves', 'leaving', 'led', 'left', 'legal', 'less', 'lesson', 'lessons', 'let', 'letter', 'level', 'lgbt', 'lgbtq', 'life', 'light', 'like', 'likely', 'line', 'linked', 'list', 'listen', 'little', 'live', 'lives', 'living', 'local', 'london', 'long', 'longer', 'look', 'looked', 'looking', 'looks', 'los', 'lose', 'losing', 'loss', 'lost', 'lot', 'love', 'loved', 'loves', 'loving', 'low', 'lower', 'made', 'magazine', 'magic', 'major', 'majority', 'make', 'makes', 'makeup', 'making', 'male', 'man', 'many', 'march', 'mark', 'market', 'marriage', 'married', 'martin', 'mass', 'massive', 'matter', 'matters', 'may', 'maybe', 'mayor', 'mean', 'meaning', 'means', 'media', 'medical', 'medicine', 'meditation', 'meet', 'meeting', 'member', 'members', 'men', 'mental', 'message', 'met', 'mexico', 'michael', 'michelle', 'middle', 'might', 'mike', 'military', 'million', 'millions', 'mind', 'minister', 'minute', 'minutes', 'miss', 'missing', 'mistakes', 'model', 'modern', 'mom', 'moment', 'moments', 'moms', 'monday', 'money', 'month', 'months', 'moore', 'morning', 'mother', 'mothers', 'move', 'movement', 'movie', 'movies', 'moving', 'much', 'murder', 'music', 'muslim', 'must', 'name', 'named', 'names', 'nation', 'national', 'natural', 'nature', 'near', 'nearly', 'need', 'needed', 'needs', 'network', 'never', 'new', 'news', 'next', 'nfl', 'nice', 'night', 'nominee', 'non', 'normal', 'north', 'note', 'nothing', 'november', 'nuclear', 'number', 'numbers', 'nyc', 'obama', 'obamacare', 'offer', 'offers', 'office', 'officer', 'official', 'officials', 'often', 'oh', 'oil', 'ok', 'old', 'older', 'olympic', 'olympics', 'one', 'ones', 'online', 'open', 'opening', 'opens', 'opportunity', 'order', 'organization', 'oscar', 'oscars', 'others', 'outside', 'paid', 'pain', 'paper', 'parent', 'parenting', 'parents', 'paris', 'park', 'part', 'partner', 'party', 'pass', 'past', 'path', 'patients', 'paul', 'pay', 'peace', 'people', 'percent', 'perfect', 'performance', 'perhaps', 'perry', 'person', 'personal', 'phone', 'photo', 'photos', 'physical', 'pick', 'picture', 'piece', 'pinterest', 'place', 'places', 'plan', 'plane', 'planet', 'planned', 'planning', 'plans', 'play', 'player', 'players', 'playing', 'please', 'plenty', 'plus', 'point', 'points', 'police', 'policy', 'political', 'politics', 'poll', 'poor', 'pop', 'pope', 'popular', 'positive', 'possible', 'post', 'potential', 'pounds', 'power', 'powerful', 'practice', 'pregnancy', 'pregnant', 'present', 'president', 'presidential', 'press', 'pressure', 'pretty', 'prevent', 'price', 'pride', 'primary', 'prince', 'princess', 'prison', 'private', 'pro', 'probably', 'problem', 'problems', 'process', 'products', 'program', 'project', 'promise', 'proposal', 'protect', 'protest', 'prove', 'provide', 'public', 'published', 'push', 'put', 'putin', 'putting', 'quality', 'queen', 'queer', 'question', 'questions', 'quick', 'quickly', 'quite', 'race', 'racist', 'raise', 'raising', 'rape', 'rare', 'rate', 'rather', 'reach', 'read', 'reading', 'ready', 'real', 'reality', 'realize', 'really', 'reason', 'reasons', 'received', 'recent', 'recently', 'recipe', 'recipes', 'record', 'red', 'reform', 'refugees', 'related', 'relationship', 'relationships', 'release', 'released', 'religious', 'remember', 'rep', 'report', 'reported', 'reportedly', 'reports', 'republican', 'republicans', 'research', 'researchers', 'respect', 'response', 'responsibility', 'rest', 'restaurant', 'result', 'results', 'return', 'reuters', 'reveals', 'review', 'rich', 'ride', 'right', 'rights', 'ring', 'rise', 'risk', 'road', 'robert', 'rock', 'role', 'room', 'round', 'roundup', 'rubio', 'rule', 'rules', 'run', 'running', 'russia', 'russian', 'ryan', 'safe', 'safety', 'said', 'san', 'sanders', 'santa', 'saturday', 'save', 'saw', 'say', 'saying', 'says', 'scandal', 'scene', 'school', 'schools', 'science', 'scientists', 'scott', 'sea', 'search', 'season', 'seat', 'second', 'secret', 'secretary', 'secrets', 'security', 'see', 'seeing', 'seem', 'seems', 'seen', 'self', 'sen', 'senate', 'senator', 'send', 'sense', 'sent', 'series', 'serious', 'seriously', 'serve', 'service', 'set', 'seven', 'several', 'sex', 'sexual', 'share', 'shared', 'shares', 'shoes', 'shooting', 'shop', 'shopping', 'short', 'shot', 'show', 'shows', 'sick', 'side', 'sign', 'signs', 'similar', 'simple', 'simply', 'since', 'singer', 'single', 'sit', 'site', 'situation', 'six', 'size', 'skin', 'sleep', 'slideshow', 'small', 'smart', 'smith', 'snl', 'social', 'society', 'someone', 'something', 'sometimes', 'son', 'song', 'soon', 'soul', 'sound', 'south', 'space', 'speak', 'special', 'speech', 'spend', 'spending', 'spent', 'spirit', 'split', 'sports', 'spot', 'spring', 'st', 'staff', 'stage', 'stand', 'standing', 'star', 'stars', 'start', 'started', 'starting', 'state', 'statement', 'states', 'stay', 'step', 'stephen', 'steps', 'steve', 'still', 'stop', 'store', 'stories', 'storm', 'story', 'straight', 'strategy', 'street', 'stress', 'strong', 'struggle', 'student', 'students', 'study', 'stuff', 'stunning', 'style', 'success', 'successful', 'sugar', 'suggests', 'suicide', 'summer', 'sun', 'sunday', 'super', 'support', 'supporters', 'supreme', 'sure', 'surprise', 'surprising', 'survey', 'suspect', 'sweet', 'swift', 'syria', 'system', 'table', 'take', 'taken', 'takes', 'taking', 'talk', 'talking', 'talks', 'taste', 'taught', 'tax', 'taylor', 'teach', 'teacher', 'teachers', 'team', 'tech', 'technology', 'ted', 'teen', 'teens', 'tell', 'telling', 'tells', 'term', 'test', 'texas', 'thank', 'thanks', 'thanksgiving', 'thing', 'things', 'think', 'thinking', 'thinks', 'third', 'though', 'thought', 'thoughts', 'thousands', 'threat', 'three', 'thursday', 'time', 'times', 'tiny', 'tips', 'today', 'together', 'told', 'tom', 'took', 'top', 'totally', 'touch', 'tough', 'tour', 'toward', 'town', 'track', 'trade', 'traditional', 'trailer', 'train', 'training', 'trans', 'transgender', 'travel', 'traveling', 'treat', 'treatment', 'trend', 'trends', 'trial', 'tribute', 'tried', 'trip', 'true', 'truly', 'trump', 'trust', 'truth', 'try', 'trying', 'tuesday', 'tumblr', 'turkey', 'turn', 'turned', 'turning', 'turns', 'tv', 'tweet', 'tweets', 'twitter', 'two', 'type', 'ultimate', 'un', 'understand', 'understanding', 'union', 'unique', 'united', 'university', 'update', 'upon', 'us', 'use', 'used', 'uses', 'using', 'usually', 'vacation', 'valentine', 'value', 'version', 'victim', 'victims', 'victory', 'video', 'videos', 'view', 'vintage', 'violence', 'visit', 'voice', 'vote', 'voters', 'voting', 'vs', 'wait', 'waiting', 'wake', 'walk', 'walking', 'wall', 'want', 'wanted', 'wants', 'war', 'warm', 'wars', 'washington', 'watch', 'watching', 'water', 'way', 'ways', 'wear', 'wearing', 'weather', 'wedding', 'weddings', 'wednesday', 'week', 'weekend', 'weekly', 'weeks', 'weight', 'weird', 'welcome', 'well', 'went', 'west', 'whatever', 'whether', 'white', 'whole', 'whose', 'wife', 'wild', 'williams', 'win', 'wine', 'winning', 'wins', 'winter', 'wisdom', 'wish', 'within', 'without', 'woman', 'women', 'wonder', 'word', 'words', 'work', 'workers', 'working', 'workout', 'works', 'world', 'worry', 'worse', 'worst', 'worth', 'would', 'write', 'writer', 'writing', 'wrong', 'wrote', 'year', 'years', 'yes', 'yet', 'yoga', 'york', 'young', 'youth']\n"
     ]
    }
   ],
   "source": [
    "print(vectorizer1.get_feature_names())"
   ]
  },
  {
   "cell_type": "code",
   "execution_count": 25,
   "metadata": {},
   "outputs": [
    {
     "name": "stdout",
     "output_type": "stream",
     "text": [
      "(160682, 1500)\n",
      "(40171, 1500)\n"
     ]
    }
   ],
   "source": [
    "print(X_train_counts.shape)\n",
    "print(X_test_counts.shape)"
   ]
  },
  {
   "cell_type": "code",
   "execution_count": 26,
   "metadata": {},
   "outputs": [
    {
     "name": "stdout",
     "output_type": "stream",
     "text": [
      "[[0 0 0 ... 0 0 0]\n",
      " [0 0 0 ... 0 0 0]\n",
      " [0 0 0 ... 0 0 0]\n",
      " ...\n",
      " [0 0 0 ... 0 0 0]\n",
      " [0 0 0 ... 0 0 0]\n",
      " [0 0 1 ... 0 0 0]]\n"
     ]
    }
   ],
   "source": [
    "# For each article we have 3000 columns, a count for each word\n",
    "print(X_train_counts.toarray())"
   ]
  },
  {
   "cell_type": "code",
   "execution_count": 42,
   "metadata": {},
   "outputs": [],
   "source": [
    "classifier = MultinomialNB().fit(X_train_counts, train_y)\n",
    "y_pred = classifier.predict(X_test_counts)\n"
   ]
  },
  {
   "cell_type": "code",
   "execution_count": 45,
   "metadata": {},
   "outputs": [
    {
     "name": "stdout",
     "output_type": "stream",
     "text": [
      "confusion matrix: [[ 237   12   13 ...   57   18   17]\n",
      " [  16  225   10 ...   34    8   14]\n",
      " [  12   10  437 ...  117   19   37]\n",
      " ...\n",
      " [  34    4   48 ... 2307   31   42]\n",
      " [   8    9   13 ...   78  189   10]\n",
      " [   5    6   41 ...   39   19  814]]\n",
      "classification report:               precision    recall  f1-score   support\n",
      "\n",
      "           0       0.37      0.31      0.34       754\n",
      "           1       0.42      0.24      0.30       945\n",
      "           2       0.40      0.37      0.39      1180\n",
      "           3       0.39      0.32      0.35      1041\n",
      "           4       0.36      0.63      0.46       659\n",
      "           5       0.63      0.62      0.62       693\n",
      "           6       0.39      0.44      0.41       421\n",
      "           7       0.50      0.53      0.51      3151\n",
      "           8       0.40      0.37      0.39       764\n",
      "           9       0.14      0.11      0.13       288\n",
      "          10       0.57      0.64      0.60      1730\n",
      "          11       0.22      0.19      0.20       269\n",
      "          12       0.23      0.11      0.15      1330\n",
      "          13       0.56      0.54      0.55       827\n",
      "          14       0.33      0.28      0.31       678\n",
      "          15       0.19      0.03      0.05       222\n",
      "          16       0.40      0.32      0.35       587\n",
      "          17       0.36      0.39      0.37       325\n",
      "          18       0.53      0.63      0.58      2462\n",
      "          19       0.67      0.72      0.69      6477\n",
      "          20       0.70      0.54      0.61      1278\n",
      "          21       0.43      0.34      0.38       539\n",
      "          22       0.36      0.33      0.35       414\n",
      "          23       0.53      0.46      0.49       963\n",
      "          24       0.67      0.68      0.68      2419\n",
      "          25       0.41      0.38      0.40       430\n",
      "          26       0.58      0.63      0.60      2025\n",
      "          27       0.70      0.65      0.68       747\n",
      "          28       0.22      0.15      0.18       532\n",
      "          29       0.49      0.63      0.55      3656\n",
      "          30       0.31      0.27      0.29       700\n",
      "          31       0.52      0.49      0.50      1665\n",
      "\n",
      "    accuracy                           0.52     40171\n",
      "   macro avg       0.44      0.42      0.42     40171\n",
      "weighted avg       0.51      0.52      0.51     40171\n",
      "\n",
      "accuracy: 0.5247815588359762\n"
     ]
    }
   ],
   "source": [
    "print('confusion matrix:',confusion_matrix(test_y,y_pred))\n",
    "print('classification report:', classification_report(test_y,y_pred))\n",
    "print('accuracy:',accuracy_score(test_y, y_pred))"
   ]
  },
  {
   "cell_type": "markdown",
   "metadata": {},
   "source": [
    "Using a basic Bag of Words, uni-gram model, we get 52% accuracy. That's not bad, if we guessed everything to be politics only, then accuracy would've been 16%."
   ]
  },
  {
   "cell_type": "markdown",
   "metadata": {},
   "source": [
    "## TF-IDF"
   ]
  },
  {
   "cell_type": "code",
   "execution_count": 29,
   "metadata": {},
   "outputs": [],
   "source": [
    "tfidf_converter = TfidfVectorizer(max_features=1500,min_df=5,max_df=0.7, stop_words=stopwords.words('english'))\n",
    "X_train_tfidf = tfidf_converter.fit_transform(X_train).toarray()\n",
    "X_test_tfidf = tfidf_converter.transform(X_test).toarray() # don't use fit_transform, since we only want to fit on training set, but use the same vectoriser transform on the test"
   ]
  },
  {
   "cell_type": "markdown",
   "metadata": {},
   "source": [
    "Naive Bayes"
   ]
  },
  {
   "cell_type": "code",
   "execution_count": 31,
   "metadata": {},
   "outputs": [
    {
     "name": "stdout",
     "output_type": "stream",
     "text": [
      "confusion matrix: [[ 130    3    5 ...  109    5   10]\n",
      " [   3  100    8 ...   56    2   13]\n",
      " [   2    5  273 ...  242    4   19]\n",
      " ...\n",
      " [   4    0   17 ... 2904    2   22]\n",
      " [   1    2    9 ...  158   72    3]\n",
      " [   2    2   12 ...   67    2  657]]\n"
     ]
    },
    {
     "name": "stderr",
     "output_type": "stream",
     "text": [
      "C:\\Users\\martin.cheung\\AppData\\Local\\Continuum\\anaconda3\\lib\\site-packages\\sklearn\\metrics\\classification.py:1437: UndefinedMetricWarning: Precision and F-score are ill-defined and being set to 0.0 in labels with no predicted samples.\n",
      "  'precision', 'predicted', average, warn_for)\n"
     ]
    },
    {
     "name": "stdout",
     "output_type": "stream",
     "text": [
      "classification report:                 precision    recall  f1-score   support\n",
      "\n",
      "          ARTS       0.62      0.17      0.27       754\n",
      "  BLACK VOICES       0.59      0.11      0.18       945\n",
      "      BUSINESS       0.49      0.23      0.31      1180\n",
      "        COMEDY       0.65      0.16      0.25      1041\n",
      "         CRIME       0.50      0.45      0.48       659\n",
      "       DIVORCE       0.80      0.46      0.58       693\n",
      "     EDUCATION       0.52      0.15      0.24       421\n",
      " ENTERTAINMENT       0.42      0.63      0.50      3151\n",
      "   ENVIRONMENT       0.54      0.19      0.28       764\n",
      "         FIFTY       0.00      0.00      0.00       288\n",
      "  FOOD & DRINK       0.62      0.59      0.60      1730\n",
      "     GOOD NEWS       0.67      0.01      0.01       269\n",
      "HEALTHY LIVING       0.29      0.01      0.02      1330\n",
      " HOME & LIVING       0.74      0.34      0.47       827\n",
      "        IMPACT       0.59      0.10      0.17       678\n",
      " LATINO VOICES       0.00      0.00      0.00       222\n",
      "         MEDIA       0.62      0.08      0.14       587\n",
      "         MONEY       0.70      0.10      0.17       325\n",
      "     PARENTING       0.49      0.67      0.56      2462\n",
      "      POLITICS       0.49      0.89      0.63      6477\n",
      "  QUEER VOICES       0.76      0.43      0.55      1278\n",
      "      RELIGION       0.74      0.15      0.25       539\n",
      "       SCIENCE       0.81      0.12      0.20       414\n",
      "        SPORTS       0.62      0.32      0.42       963\n",
      "STYLE & BEAUTY       0.63      0.70      0.66      2419\n",
      "          TECH       0.68      0.17      0.27       430\n",
      "        TRAVEL       0.58      0.63      0.61      2025\n",
      "      WEDDINGS       0.82      0.50      0.62       747\n",
      "    WEIRD NEWS       0.45      0.06      0.10       532\n",
      "      WELLNESS       0.40      0.79      0.54      3656\n",
      "         WOMEN       0.53      0.10      0.17       700\n",
      "    WORLD NEWS       0.60      0.39      0.48      1665\n",
      "\n",
      "      accuracy                           0.51     40171\n",
      "     macro avg       0.56      0.30      0.34     40171\n",
      "  weighted avg       0.54      0.51      0.46     40171\n",
      "\n",
      "accuracy: 0.5079783923726071\n"
     ]
    }
   ],
   "source": [
    "classifier = MultinomialNB().fit(X_train_tfidf, y_train)\n",
    "y_pred = classifier.predict(X_test_tfidf)\n",
    "print('confusion matrix:',confusion_matrix(y_test,y_pred))\n",
    "print('classification report:', classification_report(y_test,y_pred))\n",
    "print('accuracy:',accuracy_score(y_test, y_pred))"
   ]
  },
  {
   "cell_type": "markdown",
   "metadata": {},
   "source": [
    "SVM"
   ]
  },
  {
   "cell_type": "code",
   "execution_count": 34,
   "metadata": {},
   "outputs": [
    {
     "name": "stdout",
     "output_type": "stream",
     "text": [
      "confusion matrix: [[ 205    9   11 ...   65   14   22]\n",
      " [  11  196   10 ...   49    4   21]\n",
      " [   5    9  392 ...  135   17   44]\n",
      " ...\n",
      " [  12    2   39 ... 2790    6   33]\n",
      " [   3    4   14 ...  109  151   11]\n",
      " [   5    7   31 ...   42   14  821]]\n",
      "classification report:                 precision    recall  f1-score   support\n",
      "\n",
      "          ARTS       0.49      0.27      0.35       754\n",
      "  BLACK VOICES       0.51      0.21      0.29       945\n",
      "      BUSINESS       0.43      0.33      0.37      1180\n",
      "        COMEDY       0.54      0.23      0.33      1041\n",
      "         CRIME       0.45      0.51      0.48       659\n",
      "       DIVORCE       0.74      0.61      0.67       693\n",
      "     EDUCATION       0.43      0.35      0.38       421\n",
      " ENTERTAINMENT       0.45      0.60      0.52      3151\n",
      "   ENVIRONMENT       0.44      0.34      0.38       764\n",
      "         FIFTY       0.19      0.02      0.04       288\n",
      "  FOOD & DRINK       0.58      0.65      0.61      1730\n",
      "     GOOD NEWS       0.36      0.06      0.10       269\n",
      "HEALTHY LIVING       0.36      0.08      0.13      1330\n",
      " HOME & LIVING       0.57      0.59      0.58       827\n",
      "        IMPACT       0.45      0.13      0.20       678\n",
      " LATINO VOICES       1.00      0.01      0.02       222\n",
      "         MEDIA       0.45      0.22      0.30       587\n",
      "         MONEY       0.40      0.26      0.32       325\n",
      "     PARENTING       0.55      0.71      0.62      2462\n",
      "      POLITICS       0.63      0.81      0.71      6477\n",
      "  QUEER VOICES       0.74      0.60      0.66      1278\n",
      "      RELIGION       0.55      0.33      0.41       539\n",
      "       SCIENCE       0.44      0.26      0.33       414\n",
      "        SPORTS       0.50      0.47      0.48       963\n",
      "STYLE & BEAUTY       0.66      0.73      0.69      2419\n",
      "          TECH       0.49      0.36      0.42       430\n",
      "        TRAVEL       0.57      0.64      0.60      2025\n",
      "      WEDDINGS       0.70      0.71      0.71       747\n",
      "    WEIRD NEWS       0.28      0.09      0.14       532\n",
      "      WELLNESS       0.50      0.76      0.61      3656\n",
      "         WOMEN       0.39      0.22      0.28       700\n",
      "    WORLD NEWS       0.51      0.49      0.50      1665\n",
      "\n",
      "      accuracy                           0.55     40171\n",
      "     macro avg       0.51      0.40      0.41     40171\n",
      "  weighted avg       0.54      0.55      0.52     40171\n",
      "\n",
      "accuracy: 0.5515919444375296\n"
     ]
    }
   ],
   "source": [
    "classifier = LinearSVC().fit(X_train_tfidf, y_train)\n",
    "y_pred = classifier.predict(X_test_tfidf)\n",
    "print('confusion matrix:',confusion_matrix(y_test,y_pred))\n",
    "print('classification report:', classification_report(y_test,y_pred))\n",
    "print('accuracy:',accuracy_score(y_test, y_pred))"
   ]
  },
  {
   "cell_type": "markdown",
   "metadata": {},
   "source": [
    "Logistic Regression"
   ]
  },
  {
   "cell_type": "code",
   "execution_count": 35,
   "metadata": {},
   "outputs": [
    {
     "name": "stderr",
     "output_type": "stream",
     "text": [
      "C:\\Users\\martin.cheung\\AppData\\Local\\Continuum\\anaconda3\\lib\\site-packages\\sklearn\\linear_model\\logistic.py:432: FutureWarning: Default solver will be changed to 'lbfgs' in 0.22. Specify a solver to silence this warning.\n",
      "  FutureWarning)\n",
      "C:\\Users\\martin.cheung\\AppData\\Local\\Continuum\\anaconda3\\lib\\site-packages\\sklearn\\linear_model\\logistic.py:469: FutureWarning: Default multi_class will be changed to 'auto' in 0.22. Specify the multi_class option to silence this warning.\n",
      "  \"this warning.\", FutureWarning)\n"
     ]
    },
    {
     "name": "stdout",
     "output_type": "stream",
     "text": [
      "confusion matrix: [[ 209   11   11 ...   74   13   14]\n",
      " [  11  204    8 ...   52    4   19]\n",
      " [   8    7  404 ...  145   14   37]\n",
      " ...\n",
      " [  13    1   37 ... 2785   17   30]\n",
      " [   2    3   14 ...  110  155   11]\n",
      " [   5    7   29 ...   44   13  810]]\n"
     ]
    },
    {
     "name": "stderr",
     "output_type": "stream",
     "text": [
      "C:\\Users\\martin.cheung\\AppData\\Local\\Continuum\\anaconda3\\lib\\site-packages\\sklearn\\metrics\\classification.py:1437: UndefinedMetricWarning: Precision and F-score are ill-defined and being set to 0.0 in labels with no predicted samples.\n",
      "  'precision', 'predicted', average, warn_for)\n"
     ]
    },
    {
     "name": "stdout",
     "output_type": "stream",
     "text": [
      "classification report:                 precision    recall  f1-score   support\n",
      "\n",
      "          ARTS       0.47      0.28      0.35       754\n",
      "  BLACK VOICES       0.50      0.22      0.30       945\n",
      "      BUSINESS       0.43      0.34      0.38      1180\n",
      "        COMEDY       0.50      0.25      0.33      1041\n",
      "         CRIME       0.51      0.48      0.49       659\n",
      "       DIVORCE       0.79      0.60      0.68       693\n",
      "     EDUCATION       0.43      0.29      0.35       421\n",
      " ENTERTAINMENT       0.43      0.62      0.51      3151\n",
      "   ENVIRONMENT       0.46      0.32      0.38       764\n",
      "         FIFTY       0.28      0.04      0.07       288\n",
      "  FOOD & DRINK       0.62      0.63      0.63      1730\n",
      "     GOOD NEWS       0.42      0.06      0.11       269\n",
      "HEALTHY LIVING       0.32      0.10      0.15      1330\n",
      " HOME & LIVING       0.62      0.56      0.59       827\n",
      "        IMPACT       0.45      0.19      0.26       678\n",
      " LATINO VOICES       0.00      0.00      0.00       222\n",
      "         MEDIA       0.49      0.23      0.32       587\n",
      "         MONEY       0.47      0.24      0.32       325\n",
      "     PARENTING       0.56      0.70      0.62      2462\n",
      "      POLITICS       0.61      0.82      0.70      6477\n",
      "  QUEER VOICES       0.75      0.58      0.66      1278\n",
      "      RELIGION       0.59      0.33      0.42       539\n",
      "       SCIENCE       0.50      0.25      0.33       414\n",
      "        SPORTS       0.53      0.44      0.48       963\n",
      "STYLE & BEAUTY       0.67      0.72      0.69      2419\n",
      "          TECH       0.53      0.33      0.41       430\n",
      "        TRAVEL       0.59      0.64      0.61      2025\n",
      "      WEDDINGS       0.74      0.67      0.70       747\n",
      "    WEIRD NEWS       0.32      0.12      0.18       532\n",
      "      WELLNESS       0.49      0.76      0.60      3656\n",
      "         WOMEN       0.38      0.22      0.28       700\n",
      "    WORLD NEWS       0.54      0.49      0.51      1665\n",
      "\n",
      "      accuracy                           0.55     40171\n",
      "     macro avg       0.50      0.39      0.42     40171\n",
      "  weighted avg       0.54      0.55      0.53     40171\n",
      "\n",
      "accuracy: 0.5510691792586692\n"
     ]
    }
   ],
   "source": [
    "from sklearn.linear_model import LogisticRegression\n",
    "\n",
    "lr = LogisticRegression(penalty='l2', max_iter=100, C=1)\n",
    "classifier = lr.fit(X_train_tfidf, y_train)\n",
    "y_pred = classifier.predict(X_test_tfidf)\n",
    "print('confusion matrix:',confusion_matrix(y_test,y_pred))\n",
    "print('classification report:', classification_report(y_test,y_pred))\n",
    "print('accuracy:',accuracy_score(y_test, y_pred))"
   ]
  },
  {
   "cell_type": "markdown",
   "metadata": {},
   "source": [
    "## Stemming and Lemmatization"
   ]
  },
  {
   "cell_type": "code",
   "execution_count": null,
   "metadata": {},
   "outputs": [],
   "source": [
    "# Stemming\n",
    "from nltk.stem import PorterStemmer, WordNetLemmatizer\n",
    "# lemmetizer = WordNetLemmatizer()\n",
    "stemmer = PorterStemmer()\n",
    "\n",
    "text_stemmed = []\n",
    "for sentence in df[\"fulltext_processed\"]:\n",
    "    stemmed_sent = ' '.join([stemmer.stem(word) for word in sentence.split() if word not in stop_words])\n",
    "    text_stemmed.append(stemmed_sent)"
   ]
  },
  {
   "cell_type": "code",
   "execution_count": null,
   "metadata": {},
   "outputs": [],
   "source": [
    "# Lemmatization\n",
    "lemmatizer = WordNetLemmatizer()\n",
    "\n",
    "text_lemmatized = []\n",
    "for sentence in df[\"fulltext_processed\"]:\n",
    "    stemmed_sent = ' '.join([lemmatizer.lemmatize(word) for word in sentence.split() if word not in stop_words])\n",
    "    text_lemmatized.append(stemmed_sent)"
   ]
  },
  {
   "cell_type": "markdown",
   "metadata": {},
   "source": [
    "Train Test Split"
   ]
  },
  {
   "cell_type": "code",
   "execution_count": 62,
   "metadata": {},
   "outputs": [],
   "source": [
    "X_train, X_test, y_train, y_test = train_test_split(text_stemmed, df['category'], test_size=0.2, random_state=0)"
   ]
  },
  {
   "cell_type": "code",
   "execution_count": 64,
   "metadata": {},
   "outputs": [],
   "source": [
    "encoder = preprocessing.LabelEncoder()\n",
    "train_y = encoder.fit_transform(y_train)\n",
    "test_y = encoder.fit_transform(y_test)"
   ]
  },
  {
   "cell_type": "code",
   "execution_count": 66,
   "metadata": {},
   "outputs": [],
   "source": [
    "tfidf_converter = TfidfVectorizer(max_features=1500,min_df=5,max_df=0.7, stop_words=stopwords.words('english'))\n",
    "X_train_tfidf = tfidf_converter.fit_transform(X_train).toarray()\n",
    "X_test_tfidf = tfidf_converter.transform(X_test).toarray() # don't use fit_transform, since we only want to fit on training set, but use the same vectoriser transform on the test"
   ]
  },
  {
   "cell_type": "code",
   "execution_count": 67,
   "metadata": {},
   "outputs": [
    {
     "name": "stdout",
     "output_type": "stream",
     "text": [
      "['000', '10', '100', '11', '12', '13', '14', '15', '16', '17', '18', '19', '20', '2012', '2013', '2014', '2015', '2016', '2017', '21', '24', '25', '30', '40', '50', '60', 'abil', 'abl', 'abort', 'absolut', 'abus', 'accept', 'access', 'accord', 'account', 'accus', 'achiev', 'across', 'act', 'action', 'activ', 'activist', 'actor', 'actress', 'actual', 'ad', 'add', 'addict', 'address', 'administr', 'admit', 'adopt', 'ador', 'adult', 'advic', 'advoc', 'affect', 'afford', 'africa', 'african', 'age', 'agenc', 'ago', 'agre', 'ahead', 'aid', 'aim', 'air', 'airlin', 'airport', 'al', 'album', 'alleg', 'allegedli', 'allow', 'almost', 'alon', 'along', 'alreadi', 'also', 'although', 'alway', 'amaz', 'america', 'american', 'amid', 'among', 'amount', 'angel', 'anim', 'anniversari', 'announc', 'annual', 'anoth', 'answer', 'anti', 'anyon', 'anyth', 'apart', 'apolog', 'app', 'appar', 'appeal', 'appear', 'appl', 'approach', 'approv', 'april', 'area', 'arm', 'around', 'arrest', 'arriv', 'art', 'articl', 'artist', 'ask', 'assault', 'associ', 'athlet', 'attack', 'attempt', 'attend', 'attent', 'attorney', 'attract', 'author', 'autism', 'avoid', 'awar', 'award', 'away', 'awesom', 'babi', 'baby', 'back', 'bad', 'bag', 'balanc', 'ban', 'band', 'bank', 'bar', 'bas', 'base', 'basic', 'battl', 'beach', 'bear', 'beat', 'beauti', 'becam', 'becom', 'bed', 'beer', 'began', 'begin', 'behavior', 'behind', 'believ', 'ben', 'benefit', 'berni', 'best', 'better', 'beyond', 'big', 'biggest', 'bill', 'billion', 'birth', 'birthday', 'bit', 'black', 'blame', 'block', 'blog', 'blood', 'blue', 'board', 'bodi', 'body', 'bomb', 'book', 'boost', 'border', 'born', 'boston', 'bowl', 'box', 'boy', 'brain', 'brand', 'break', 'breakfast', 'breast', 'breath', 'bride', 'bring', 'british', 'broken', 'brother', 'brought', 'brown', 'budget', 'build', 'burn', 'bush', 'busi', 'business', 'buy', 'cake', 'california', 'call', 'came', 'camp', 'campaign', 'cancer', 'candid', 'cannot', 'captur', 'car', 'card', 'care', 'career', 'carolina', 'carpet', 'carri', 'case', 'cast', 'cat', 'catch', 'caught', 'caus', 'celebr', 'center', 'central', 'centuri', 'ceo', 'certain', 'certainli', 'challeng', 'chanc', 'chang', 'change', 'charact', 'charg', 'check', 'chef', 'chicago', 'chicken', 'chief', 'child', 'childhood', 'children', 'china', 'chines', 'chocol', 'choic', 'choos', 'chri', 'christian', 'christma', 'church', 'citi', 'citizen', 'city', 'civil', 'claim', 'class', 'classic', 'clean', 'clear', 'click', 'climat', 'clinton', 'clip', 'close', 'cloth', 'club', 'cnn', 'co', 'coach', 'coast', 'cocktail', 'coffe', 'colbert', 'cold', 'collect', 'colleg', 'color', 'com', 'come', 'comfort', 'comment', 'commit', 'common', 'commun', 'community', 'compani', 'compar', 'complet', 'concern', 'condit', 'confirm', 'conflict', 'congress', 'connect', 'conserv', 'consid', 'consum', 'continu', 'control', 'controversi', 'convent', 'convers', 'cook', 'cool', 'cop', 'corpor', 'cost', 'could', 'count', 'countri', 'country', 'coupl', 'cours', 'course', 'court', 'cover', 'craft', 'crash', 'crazi', 'cream', 'creat', 'creativ', 'credit', 'crime', 'crimin', 'crisi', 'critic', 'cross', 'crowd', 'cruz', 'cultur', 'cup', 'current', 'custom', 'cut', 'cute', 'dad', 'daili', 'damag', 'danc', 'danger', 'dark', 'data', 'date', 'daughter', 'david', 'day', 'days', 'de', 'dead', 'deadli', 'deal', 'dear', 'death', 'debat', 'debt', 'debut', 'decad', 'decid', 'decis', 'declar', 'decor', 'deep', 'defend', 'defens', 'defin', 'definit', 'deliv', 'demand', 'democrat', 'deni', 'depart', 'depress', 'describ', 'deserv', 'design', 'despit', 'destin', 'detail', 'determin', 'develop', 'die', 'diet', 'differ', 'difficult', 'digit', 'dinner', 'direct', 'director', 'discov', 'discuss', 'diseas', 'dish', 'disney', 'divers', 'divorc', 'divorce', 'diy', 'doctor', 'dog', 'dollar', 'donald', 'donat', 'done', 'door', 'doubt', 'dozen', 'dr', 'drag', 'draw', 'dream', 'dress', 'drink', 'drive', 'driver', 'drop', 'drug', 'due', 'earli', 'earlier', 'earn', 'earth', 'easi', 'easier', 'east', 'eat', 'econom', 'economi', 'editor', 'educ', 'effect', 'effort', 'eight', 'either', 'elect', 'elizabeth', 'els', 'email', 'embrac', 'emerg', 'emot', 'employe', 'encourag', 'end', 'endors', 'energi', 'engag', 'enjoy', 'enough', 'enter', 'entir', 'environment', 'episod', 'equal', 'era', 'especi', 'essenti', 'even', 'event', 'ever', 'everi', 'everyon', 'everyth', 'evid', 'ex', 'exactli', 'excit', 'execut', 'exercis', 'exist', 'expect', 'experi', 'experience', 'expert', 'explain', 'explor', 'express', 'extra', 'extrem', 'eye', 'face', 'facebook', 'fact', 'fail', 'fair', 'faith', 'fake', 'fall', 'famili', 'family', 'famou', 'fan', 'far', 'fashion', 'fast', 'fat', 'father', 'favorit', 'fbi', 'fear', 'featur', 'feder', 'feel', 'felt', 'femal', 'festiv', 'field', 'fight', 'figur', 'file', 'fill', 'film', 'final', 'financi', 'find', 'fine', 'fire', 'first', 'fit', 'five', 'fix', 'fli', 'flight', 'florida', 'focu', 'focus', 'follow', 'food', 'footbal', 'forc', 'foreign', 'forget', 'form', 'former', 'forward', 'found', 'four', 'fox', 'francisco', 'fre', 'free', 'freedom', 'french', 'fresh', 'friday', 'friend', 'friendli', 'friends', 'front', 'fuel', 'full', 'fun', 'fund', 'futur', 'future', 'gain', 'game', 'gave', 'gay', 'gender', 'gener', 'georg', 'get', 'giant', 'gift', 'girl', 'girls', 'give', 'given', 'glass', 'global', 'globe', 'go', 'goal', 'god', 'goe', 'gold', 'golden', 'gone', 'good', 'googl', 'gop', 'got', 'govern', 'governor', 'gp', 'grand', 'great', 'greatest', 'green', 'ground', 'group', 'grow', 'growth', 'guest', 'guid', 'gun', 'guy', 'habit', 'hair', 'half', 'hall', 'halloween', 'hand', 'handl', 'happen', 'happi', 'harass', 'hard', 'harri', 'hate', 'head', 'heal', 'health', 'healthi', 'hear', 'heard', 'heart', 'heat', 'held', 'help', 'hero', 'high', 'higher', 'highlight', 'hilari', 'hill', 'hillari', 'histor', 'histori', 'history', 'hit', 'hiv', 'hold', 'holiday', 'hollywood', 'home', 'homeless', 'honor', 'hope', 'hospit', 'host', 'hot', 'hotel', 'hour', 'hous', 'house', 'however', 'huffpost', 'huge', 'human', 'hundr', 'hurrican', 'hurt', 'husband', 'ice', 'icon', 'idea', 'identifi', 'ignor', 'ill', 'imag', 'imagin', 'immigr', 'impact', 'import', 'impress', 'improv', 'includ', 'increas', 'incred', 'independ', 'individu', 'industri', 'influenc', 'inform', 'initi', 'inner', 'insid', 'inspir', 'instagram', 'instead', 'insur', 'interest', 'intern', 'internet', 'interview', 'invest', 'investig', 'invit', 'involv', 'iran', 'iraq', 'isi', 'islam', 'island', 'israel', 'issu', 'item', 'jail', 'jame', 'jeff', 'jenner', 'jennif', 'jessica', 'jimmi', 'job', 'joe', 'john', 'johnson', 'join', 'joke', 'journal', 'journalist', 'journey', 'joy', 'judg', 'juli', 'jump', 'june', 'justic', 'justin', 'kardashian', 'kate', 'kati', 'keep', 'kelli', 'key', 'kick', 'kid', 'kids', 'kill', 'kim', 'kind', 'king', 'kiss', 'kitchen', 'knew', 'know', 'known', 'korea', 'la', 'labor', 'lack', 'ladi', 'land', 'larg', 'largest', 'last', 'late', 'later', 'latest', 'latino', 'laugh', 'launch', 'law', 'lawmak', 'lawsuit', 'lawyer', 'lead', 'leader', 'leadership', 'learn', 'least', 'leav', 'led', 'left', 'legal', 'less', 'lesson', 'let', 'letter', 'level', 'lgbt', 'lgbtq', 'lie', 'life', 'light', 'like', 'limit', 'line', 'link', 'list', 'listen', 'littl', 'live', 'lives', 'lo', 'local', 'london', 'long', 'longer', 'look', 'lose', 'loss', 'lost', 'lot', 'love', 'low', 'lower', 'mad', 'made', 'magazin', 'magic', 'main', 'major', 'make', 'makeup', 'male', 'man', 'manag', 'mani', 'march', 'mark', 'market', 'marri', 'marriag', 'marriage', 'martin', 'mass', 'massiv', 'match', 'matter', 'may', 'mayb', 'mayor', 'meal', 'mean', 'measur', 'media', 'medic', 'medit', 'meet', 'member', 'memori', 'men', 'mental', 'messag', 'met', 'mexico', 'mi', 'michael', 'michel', 'middl', 'might', 'mike', 'mile', 'militari', 'million', 'mind', 'minut', 'miss', 'mistak', 'mix', 'model', 'modern', 'mom', 'moment', 'monday', 'money', 'month', 'morn', 'mother', 'move', 'movement', 'movi', 'much', 'murder', 'museum', 'music', 'muslim', 'must', 'mysteri', 'myth', 'nail', 'name', 'nation', 'natur', 'near', 'nearli', 'need', 'network', 'never', 'new', 'news', 'next', 'nfl', 'nice', 'night', 'nomin', 'nomine', 'non', 'normal', 'north', 'note', 'noth', 'notic', 'nuclear', 'number', 'nyc', 'obama', 'obamacar', 'offer', 'offic', 'offici', 'often', 'oh', 'oil', 'ok', 'old', 'older', 'olymp', 'one', 'onlin', 'open', 'opinion', 'opportun', 'option', 'order', 'organ', 'origin', 'oscar', 'others', 'outfit', 'outsid', 'owner', 'pack', 'page', 'paid', 'pain', 'paint', 'pair', 'paper', 'parent', 'parents', 'pari', 'park', 'part', 'parti', 'partner', 'party', 'pass', 'passion', 'past', 'path', 'patient', 'paul', 'pay', 'peac', 'peopl', 'people', 'percent', 'perfect', 'perform', 'perhap', 'person', 'pet', 'phone', 'photo', 'photograph', 'photos', 'physic', 'pick', 'pictur', 'piec', 'pinterest', 'place', 'plan', 'plane', 'planet', 'plant', 'play', 'player', 'pleas', 'plenti', 'point', 'polic', 'polici', 'polit', 'politician', 'poll', 'poor', 'pop', 'pope', 'popular', 'pose', 'posit', 'possibl', 'post', 'potenti', 'pound', 'power', 'practic', 'predict', 'pregnant', 'premier', 'prepar', 'present', 'presid', 'president', 'presidenti', 'press', 'pressur', 'pretti', 'prevent', 'price', 'pride', 'primari', 'prime', 'princ', 'princess', 'prison', 'privat', 'pro', 'probabl', 'probe', 'problem', 'process', 'produc', 'product', 'profession', 'program', 'progress', 'project', 'promis', 'promot', 'propos', 'protect', 'protest', 'prove', 'provid', 'public', 'publish', 'pull', 'push', 'put', 'putin', 'qualiti', 'queen', 'queer', 'question', 'quick', 'quit', 'race', 'racial', 'racist', 'rais', 'ralli', 'rape', 'rare', 'rate', 'rather', 'reach', 'read', 'readi', 'real', 'realiti', 'realiz', 'realli', 'reason', 'receiv', 'recent', 'recip', 'recogn', 'record', 'red', 'reduc', 'reflect', 'reform', 'refuge', 'refus', 'region', 'reject', 'rel', 'relat', 'relationship', 'relax', 'releas', 'religi', 'remain', 'rememb', 'remind', 'remov', 'rep', 'repeal', 'replac', 'report', 'reportedli', 'repres', 'republican', 'requir', 'rescu', 'research', 'resid', 'resign', 'resist', 'resolut', 'respect', 'respond', 'respons', 'rest', 'restaur', 'result', 'retir', 'return', 'reveal', 'review', 'rich', 'ride', 'right', 'ring', 'rise', 'risk', 'road', 'robert', 'rock', 'role', 'roll', 'room', 'round', 'roundup', 'royal', 'rubio', 'rule', 'run', 'russia', 'russian', 'ryan', 'sad', 'safe', 'safeti', 'said', 'sale', 'san', 'sander', 'santa', 'saturday', 'saudi', 'save', 'saw', 'say', 'says', 'scandal', 'scene', 'school', 'scienc', 'scientist', 'score', 'scott', 'screen', 'sea', 'search', 'season', 'seat', 'second', 'secret', 'secretari', 'secur', 'see', 'seek', 'seem', 'seen', 'self', 'sell', 'sen', 'senat', 'send', 'sens', 'sent', 'separ', 'seri', 'seriou', 'serv', 'servic', 'set', 'seven', 'sever', 'sex', 'sexual', 'shame', 'shape', 'share', 'shift', 'shock', 'shoe', 'shoot', 'shop', 'short', 'shot', 'show', 'shut', 'sick', 'side', 'sign', 'similar', 'simpl', 'simpli', 'sinc', 'sing', 'singer', 'singl', 'sister', 'sit', 'site', 'situat', 'six', 'size', 'skill', 'skin', 'slam', 'sleep', 'slideshow', 'slow', 'small', 'smart', 'smile', 'smith', 'snl', 'snow', 'social', 'societi', 'solut', 'someon', 'someth', 'sometim', 'son', 'song', 'soon', 'sort', 'soul', 'sound', 'sourc', 'south', 'space', 'speak', 'special', 'speech', 'spend', 'spent', 'spirit', 'spiritu', 'split', 'sport', 'spot', 'spread', 'spring', 'st', 'staff', 'stage', 'stand', 'standard', 'star', 'start', 'state', 'statement', 'states', 'stay', 'step', 'stephen', 'steve', 'still', 'stop', 'store', 'stori', 'storm', 'story', 'straight', 'strategi', 'street', 'stress', 'strike', 'strong', 'struggl', 'student', 'studi', 'stuff', 'stun', 'style', 'success', 'suffer', 'sugar', 'suggest', 'suicid', 'suit', 'summer', 'sun', 'sunday', 'super', 'support', 'suprem', 'sure', 'surpris', 'survey', 'surviv', 'survivor', 'suspect', 'sweet', 'swift', 'syria', 'syrian', 'system', 'tabl', 'take', 'taken', 'talk', 'target', 'tast', 'taught', 'tax', 'taylor', 'teach', 'teacher', 'team', 'tech', 'technolog', 'ted', 'teen', 'teenag', 'tell', 'ten', 'term', 'terror', 'test', 'texa', 'thank', 'thanksgiv', 'thi', 'thing', 'things', 'think', 'third', 'though', 'thought', 'thousand', 'threat', 'threaten', 'three', 'throw', 'thursday', 'tie', 'tim', 'time', 'times', 'tip', 'today', 'toddler', 'togeth', 'together', 'told', 'tom', 'took', 'tool', 'top', 'total', 'touch', 'tough', 'tour', 'toward', 'town', 'track', 'trade', 'tradit', 'trailer', 'train', 'tran', 'transform', 'transgend', 'travel', 'treat', 'treatment', 'tree', 'trend', 'tri', 'trial', 'tribut', 'trick', 'trip', 'troubl', 'true', 'truli', 'trump', 'trust', 'truth', 'tuesday', 'tumblr', 'turkey', 'turn', 'tv', 'tweet', 'twitter', 'two', 'type', 'ultim', 'un', 'understand', 'union', 'uniqu', 'unit', 'univers', 'upon', 'urg', 'us', 'use', 'user', 'usual', 'vacat', 'valentine', 'valu', 'version', 'veteran', 'victim', 'video', 'view', 'vintag', 'violenc', 'visit', 'voic', 'vote', 'voter', 'vs', 'wait', 'wake', 'walk', 'wall', 'want', 'war', 'warm', 'warn', 'washington', 'watch', 'water', 'way', 'wear', 'weather', 'wed', 'wednesday', 'week', 'weekend', 'weekli', 'weight', 'weird', 'welcom', 'well', 'went', 'west', 'whatev', 'whether', 'white', 'whole', 'whose', 'wife', 'wild', 'william', 'win', 'wine', 'winner', 'winter', 'wisdom', 'wish', 'within', 'without', 'woman', 'women', 'wonder', 'word', 'work', 'worker', 'workout', 'world', 'worri', 'worst', 'worth', 'would', 'wrap', 'write', 'writer', 'wrong', 'wrote', 'year', 'years', 'yes', 'yet', 'yoga', 'york', 'young', 'youth']\n"
     ]
    }
   ],
   "source": [
    "print(tfidf_converter.get_feature_names())"
   ]
  },
  {
   "cell_type": "code",
   "execution_count": 69,
   "metadata": {},
   "outputs": [
    {
     "name": "stdout",
     "output_type": "stream",
     "text": [
      "confusion matrix: [[ 148    3   10 ...  107    2    9]\n",
      " [   4  103    6 ...   57    1    7]\n",
      " [   2    1  279 ...  241    6   16]\n",
      " ...\n",
      " [   5    1   10 ... 2904    1   17]\n",
      " [   1    1    9 ...  157   66    6]\n",
      " [   3    1   14 ...   68    4  647]]\n",
      "classification report:                 precision    recall  f1-score   support\n",
      "\n",
      "          ARTS       0.58      0.20      0.29       754\n",
      "  BLACK VOICES       0.61      0.11      0.19       945\n",
      "      BUSINESS       0.47      0.24      0.31      1180\n",
      "        COMEDY       0.64      0.15      0.25      1041\n",
      "         CRIME       0.50      0.46      0.48       659\n",
      "       DIVORCE       0.82      0.46      0.59       693\n",
      "     EDUCATION       0.55      0.12      0.20       421\n",
      " ENTERTAINMENT       0.43      0.62      0.51      3151\n",
      "   ENVIRONMENT       0.55      0.20      0.29       764\n",
      "         FIFTY       1.00      0.01      0.01       288\n",
      "  FOOD & DRINK       0.64      0.62      0.63      1730\n",
      "     GOOD NEWS       0.35      0.02      0.04       269\n",
      "HEALTHY LIVING       0.36      0.01      0.01      1330\n",
      " HOME & LIVING       0.77      0.41      0.54       827\n",
      "        IMPACT       0.53      0.09      0.15       678\n",
      " LATINO VOICES       0.80      0.02      0.04       222\n",
      "         MEDIA       0.65      0.10      0.18       587\n",
      "         MONEY       0.77      0.12      0.21       325\n",
      "     PARENTING       0.49      0.68      0.57      2462\n",
      "      POLITICS       0.49      0.89      0.63      6477\n",
      "  QUEER VOICES       0.78      0.43      0.56      1278\n",
      "      RELIGION       0.72      0.17      0.27       539\n",
      "       SCIENCE       0.79      0.13      0.22       414\n",
      "        SPORTS       0.64      0.33      0.43       963\n",
      "STYLE & BEAUTY       0.65      0.72      0.68      2419\n",
      "          TECH       0.68      0.15      0.25       430\n",
      "        TRAVEL       0.60      0.67      0.63      2025\n",
      "      WEDDINGS       0.82      0.54      0.65       747\n",
      "    WEIRD NEWS       0.49      0.07      0.12       532\n",
      "      WELLNESS       0.41      0.79      0.54      3656\n",
      "         WOMEN       0.51      0.09      0.16       700\n",
      "    WORLD NEWS       0.61      0.39      0.48      1665\n",
      "\n",
      "      accuracy                           0.52     40171\n",
      "     macro avg       0.62      0.31      0.35     40171\n",
      "  weighted avg       0.56      0.52      0.47     40171\n",
      "\n",
      "accuracy: 0.5159443379552413\n"
     ]
    }
   ],
   "source": [
    "classifier = MultinomialNB().fit(X_train_tfidf, y_train)\n",
    "y_pred = classifier.predict(X_test_tfidf)\n",
    "print('confusion matrix:',confusion_matrix(y_test,y_pred))\n",
    "print('classification report:', classification_report(y_test,y_pred))\n",
    "print('accuracy:',accuracy_score(y_test, y_pred))"
   ]
  },
  {
   "cell_type": "code",
   "execution_count": 71,
   "metadata": {},
   "outputs": [],
   "source": [
    "# Write Model Function\n",
    "def build_model(classifier, X,y, X_test, y_test):\n",
    "    classifier.fit(X, y)\n",
    "    y_pred = classifier.predict(X_test)\n",
    "    return accuracy_score(y_test, y_pred)"
   ]
  },
  {
   "cell_type": "code",
   "execution_count": 77,
   "metadata": {},
   "outputs": [
    {
     "name": "stdout",
     "output_type": "stream",
     "text": [
      "0.566503198825023\n",
      "0.5159443379552413\n"
     ]
    },
    {
     "name": "stderr",
     "output_type": "stream",
     "text": [
      "C:\\Users\\martin.cheung\\AppData\\Local\\Continuum\\anaconda3\\lib\\site-packages\\sklearn\\linear_model\\logistic.py:432: FutureWarning: Default solver will be changed to 'lbfgs' in 0.22. Specify a solver to silence this warning.\n",
      "  FutureWarning)\n",
      "C:\\Users\\martin.cheung\\AppData\\Local\\Continuum\\anaconda3\\lib\\site-packages\\sklearn\\linear_model\\logistic.py:469: FutureWarning: Default multi_class will be changed to 'auto' in 0.22. Specify the multi_class option to silence this warning.\n",
      "  \"this warning.\", FutureWarning)\n"
     ]
    },
    {
     "name": "stdout",
     "output_type": "stream",
     "text": [
      "0.5636155435513182\n"
     ]
    }
   ],
   "source": [
    "acc_svm = build_model(LinearSVC(), X_train_tfidf,y_train,X_test_tfidf,y_test)\n",
    "print(acc_svm)\n",
    "acc_naivebayes = build_model(MultinomialNB(), X_train_tfidf,y_train,X_test_tfidf,y_test)\n",
    "print(acc_naivebayes)\n",
    "acc_logistic = build_model(LogisticRegression(penalty='l2', max_iter=100, C=1), X_train_tfidf,y_train,X_test_tfidf,y_test)\n",
    "print(acc_logistic)"
   ]
  },
  {
   "cell_type": "code",
   "execution_count": null,
   "metadata": {},
   "outputs": [],
   "source": []
  }
 ],
 "metadata": {
  "kernelspec": {
   "display_name": "Python 3",
   "language": "python",
   "name": "python3"
  },
  "language_info": {
   "codemirror_mode": {
    "name": "ipython",
    "version": 3
   },
   "file_extension": ".py",
   "mimetype": "text/x-python",
   "name": "python",
   "nbconvert_exporter": "python",
   "pygments_lexer": "ipython3",
   "version": "3.7.3"
  }
 },
 "nbformat": 4,
 "nbformat_minor": 2
}
